{
 "cells": [
  {
   "cell_type": "code",
   "execution_count": null,
   "metadata": {},
   "outputs": [],
   "source": [
    "#| hide"
   ]
  },
  {
   "cell_type": "markdown",
   "metadata": {},
   "source": [
    "# frameworks-getting-started\n",
    "\n",
    "> A getting started repository for framework's best practices"
   ]
  },
  {
   "cell_type": "markdown",
   "metadata": {},
   "source": [
    "This written tutorial will show you how to setup and use the tools and best practices developed by the frameworks team.  These best practices were inspired and developed from this [framework example](https://github.com/nd-crane/framework-example)."
   ]
  },
  {
   "cell_type": "markdown",
   "metadata": {},
   "source": [
    "## Example Projects"
   ]
  },
  {
   "cell_type": "markdown",
   "metadata": {},
   "source": [
    "In addition to this tutorial two other github repositories can be used for refrence.  These both include scale implementations of the frameworks toolkit.\n",
    "\n",
    "1. [Natural Language Processing on FAA Data](https://github.com/nd-crane/frameworks-getting-started) -> This repo contains a full knoweledge extraction pipeline from data collection to model training and inference using the tools and best practices detailed below.\n",
    "2. [Computer Vision analysis on Facial Recongition](https://github.com/nd-crane/Explain2Me-Framework-Example) -> This repo contains analysis on GradCAM output and emphasizes our way of experimentation."
   ]
  },
  {
   "cell_type": "markdown",
   "metadata": {},
   "source": [
    "## Recommended Tools"
   ]
  },
  {
   "cell_type": "markdown",
   "metadata": {},
   "source": [
    "### PDM\n",
    "> PDM, as described, is a modern Python package and dependency manager supporting the latest PEP standards. But it is more than a package manager. It boosts your development workflow in various aspects. The most significant benefit is it installs and manages packages in a similar way to npm that doesn't need to create a virtualenv at all!\n",
    ">\n",
    "> --- [PDM Documentation](https://pdm.fming.dev/latest/#introduction)"
   ]
  },
  {
   "cell_type": "markdown",
   "metadata": {},
   "source": [
    "### nbdev\n",
    "> Create delightful software with Jupyter Notebooks. Write, test, document, and distribute software packages and technical articles — all in one place, your notebook.\n",
    ">\n",
    "> --- [nbdev Documentation](https://nbdev.fast.ai/)"
   ]
  },
  {
   "cell_type": "markdown",
   "metadata": {},
   "source": [
    "### DVC\n",
    "> DVC is built to make ML models shareable and reproducible. It is designed to handle large files, data sets, machine learning models, and metrics as well as code.\n",
    ">\n",
    "> --- [DVC Documentation](https://dvc.org/)"
   ]
  },
  {
   "cell_type": "code",
   "execution_count": null,
   "metadata": {},
   "outputs": [],
   "source": []
  }
 ],
 "metadata": {
  "kernelspec": {
   "display_name": "python3",
   "language": "python",
   "name": "python3"
  }
 },
 "nbformat": 4,
 "nbformat_minor": 4
}
