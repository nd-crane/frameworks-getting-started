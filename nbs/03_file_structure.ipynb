{
 "cells": [
  {
   "attachments": {},
   "cell_type": "markdown",
   "metadata": {},
   "source": [
    "# Suggested File Structure"
   ]
  },
  {
   "attachments": {},
   "cell_type": "markdown",
   "metadata": {},
   "source": [
    "While the file structure will not make much difference on the correctness of your project, this suggested file structure will encourage code reproducability and explainability.  Much of it will be auto generated at this point from the three previous steps, but we'll add a few things as well as some explanations."
   ]
  },
  {
   "attachments": {},
   "cell_type": "markdown",
   "metadata": {},
   "source": [
    "## Pipeline"
   ]
  },
  {
   "attachments": {},
   "cell_type": "markdown",
   "metadata": {},
   "source": [
    "We'll model our repo structure after the TAI pipeline developed by NDCRANE."
   ]
  },
  {
   "attachments": {},
   "cell_type": "markdown",
   "metadata": {},
   "source": [
    "![](images/graphic_concept-5.png)"
   ]
  },
  {
   "attachments": {},
   "cell_type": "markdown",
   "metadata": {},
   "source": [
    "This pipeline consists of 6 stages of development.\n",
    "\n",
    "1. Data Collection\n",
    "2. Data Preparation\n",
    "3. Data Cleaning\n",
    "4. Feature Extraction\n",
    "5. Training\n",
    "6. Inference\n",
    "\n",
    "We'll create one Jupyter Notebook for each stage in our `nbs/` directory.  It should look like the following (where `index.ipynb` will convert to our repos' `README.md`):\n",
    "\n",
    "```tree\n",
    "nbs/\n",
    "├── index.ipynb\n",
    "├── 01_data_collection.ipynb\n",
    "├── 02_data_preparation.ipynb\n",
    "├── 03_feature_extraction.ipynb\n",
    "├── 04_output_testing.ipynb\n",
    "├── 05_training.ipynb\n",
    "└── 06_inference.ipynb\n",
    "```"
   ]
  },
  {
   "attachments": {},
   "cell_type": "markdown",
   "metadata": {},
   "source": [
    "## Data Management"
   ]
  },
  {
   "attachments": {},
   "cell_type": "markdown",
   "metadata": {},
   "source": [
    "As mentioned briefly on the previous page, data will be managed with DVC.  We'll make a directory with in our repo for all data.  Here let's separate data into three categories.\n",
    "\n",
    "1. *`raw/`* - import original data from here before cleaning anything\n",
    "2. *`iterim/`* - data in the processed of cleaning goes here\n",
    "3. *`cleaned/`* - data ready for training goes here\n",
    "\n",
    "Thus our directory structure for data should look similar to the following:\n",
    "\n",
    "```tree\n",
    "data/\n",
    "├── raw/\n",
    "| └── raw_data.csv\n",
    "├── iterim/\n",
    "| └── iterim_data.csv\n",
    "├── cleaned/\n",
    "└ └── cleaned_data.csv"
   ]
  },
  {
   "attachments": {},
   "cell_type": "markdown",
   "metadata": {},
   "source": [
    "## Full Structure\n",
    "Compiling these in our auto-generated directory from pdm, dvc, and pdm, the repo structure should look similar to the following"
   ]
  },
  {
   "attachments": {},
   "cell_type": "markdown",
   "metadata": {},
   "source": [
    "```tree\n",
    "project-name/\n",
    "├── .gitignore\n",
    "├── .pdmtoml\n",
    "├── LICENSE\n",
    "├── MANIFEST.in\n",
    "├── pdm.lock\n",
    "├── pyproject.toml\n",
    "├── README.md\n",
    "├── ssettings.ini\n",
    "├── setup.py\n",
    "├── styles.css\n",
    "├── .github/\n",
    "| ├── workflows/\n",
    "| | ├── deploy.yaml\n",
    "| └ └── test.yaml\n",
    "├── .venv/\n",
    "| └── ...\n",
    "├── data/\n",
    "| ├── raw/\n",
    "| | └── raw_data.csv\n",
    "| ├── iterim/\n",
    "| | └── iterim_data.csv\n",
    "| ├── cleaned/\n",
    "| └ └── cleaned_data.csv\n",
    "├── nbs/\n",
    "| ├── index.ipynb\n",
    "| ├── 01_data_collection.ipynb\n",
    "| ├── 02_data_preparation.ipynb\n",
    "| ├── 03_feature_extraction.ipynb\n",
    "| ├── 04_output_testing.ipynb\n",
    "| ├── 05_training.ipynb\n",
    "| └── 06_inference.ipynb\n",
    "├── model/\n",
    "| └── ...\n",
    "└── eval/\n",
    "| ├── plots/\n",
    "└ └── metrics.json\n",
    "\n",
    "```"
   ]
  },
  {
   "cell_type": "markdown",
   "metadata": {},
   "source": []
  }
 ],
 "metadata": {},
 "nbformat": 4,
 "nbformat_minor": 2
}
