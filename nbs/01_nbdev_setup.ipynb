{
 "cells": [
  {
   "cell_type": "markdown",
   "id": "d0bb61ad-13f6-4dfe-aeee-bbdedbd824ee",
   "metadata": {},
   "source": [
    "# Setting Up nbdev"
   ]
  },
  {
   "cell_type": "markdown",
   "id": "0d7673c2-2da6-478c-aa32-c3b14af9b2f4",
   "metadata": {},
   "source": [
    "nbdev streamlines software development, testing, and documentation all from Jupyter Notebooks using Quarto and Github actions.  We'll use nbdev to increase AI modeling transparency.  To initialize nbdev follow the steps below."
   ]
  },
  {
   "cell_type": "markdown",
   "id": "55832746-bb04-4410-9b07-40c8d31a27fa",
   "metadata": {},
   "source": [
    "### Installation"
   ]
  },
  {
   "cell_type": "markdown",
   "id": "11046d78-ae23-4188-8fae-e7f4aac8d301",
   "metadata": {},
   "source": [
    "With PDM properly configured we'll install all packages with it.  Let's start with nbdev.\n",
    "```bash\n",
    "pdm add nbdev\n",
    "```"
   ]
  },
  {
   "cell_type": "markdown",
   "id": "926e134d-3067-4f20-8155-2106df1ce979",
   "metadata": {},
   "source": [
    "### Initialization\n",
    ">This page was modified from the [nbdev End-To-End Walkthrough](https://nbdev.fast.ai/tutorials/tutorial.html)"
   ]
  },
  {
   "cell_type": "markdown",
   "id": "26ec8779",
   "metadata": {},
   "source": [
    "#### Quarto"
   ]
  },
  {
   "cell_type": "markdown",
   "id": "870cf45a",
   "metadata": {},
   "source": [
    "Before initializing nbdev, we first need to install [quarto](https://quarto.org/). Quarto enables technical publishing which will convert Jupyter Notebooks to beautiful documentation.  There are two options for quarto installation."
   ]
  },
  {
   "cell_type": "markdown",
   "id": "27895b0f",
   "metadata": {},
   "source": [
    "1. If **sudo privledges** are available you may run:\n",
    "\n",
    "```bash\n",
    "pdm run nbdev_install_quarto\n",
    "```\n",
    "\n",
    "2. Otherwise, you will have to perform a few tricks:\n",
    "\n",
    "First download the tarball from github.\n",
    "\n",
    "```bash\n",
    "wget https://github.com/quarto-dev/quarto-cli/releases/download/v1.2.335/quarto-1.2.335-linux-amd64.tar.gz\n",
    "```\n",
    "\n",
    "Next extract and build the binaries.\n",
    "\n",
    "```bash\n",
    "mkdir quarto\n",
    "tar -C ./quarto -xvzf quarto-1.2.335-linux-amd64.tar.gz\n",
    "```\n",
    "\n",
    "Finally, provide a link to the binaries in the environment, so the interpreter recognizes this installation.\n",
    "\n",
    "```bash\n",
    "ln -sr ./quarto/quarto-1.2.335/bin/quarto ./.venv/bin/quarto\n",
    "```\n",
    "(If the environment was configured differently on the previous page, the destination will differ)\n",
    "\n",
    "To ensure properly installation run:\n",
    "\n",
    "```bash\n",
    "pdm run which quarto\n",
    "```\n",
    "\n",
    "From here you may delete the tarball:\n",
    "\n",
    "```bash\n",
    "rm quarto-1.2.335-linux-amd64.tar.gz\n",
    "```\n",
    "  "
   ]
  },
  {
   "cell_type": "markdown",
   "id": "4f219052",
   "metadata": {},
   "source": [
    "#### Init"
   ]
  },
  {
   "cell_type": "markdown",
   "id": "afdcf009",
   "metadata": {},
   "source": [
    "With Quarto installed, now initialize a nbdev repo by entering:\n",
    "\n",
    "```bash\n",
    "nbdev_new\n",
    "```"
   ]
  },
  {
   "cell_type": "markdown",
   "id": "3d650d0d",
   "metadata": {},
   "source": [
    "This will ask for project metadat information that can always be edited in the `settings.ini` file.  Then commit and push the new changes to GitHub.\n",
    "\n",
    "```bash\n",
    "git add . \n",
    "git commit -m 'Initial commit'\n",
    "git push\n",
    "```"
   ]
  },
  {
   "cell_type": "markdown",
   "id": "3e72b975",
   "metadata": {},
   "source": [
    "#### Github Pages"
   ]
  },
  {
   "cell_type": "markdown",
   "id": "59ae3eb7",
   "metadata": {},
   "source": [
    "Github pages should be enabled to host the generated documentation.  In GitHub click on the \"Settings\" tab near the top-right of the repo, then \"Pages\" on the left, then set the \"Branch\" to gh-pages\" and click \"Save\"."
   ]
  },
  {
   "cell_type": "markdown",
   "id": "5f76e04a",
   "metadata": {},
   "source": [
    "It should look like the following:"
   ]
  },
  {
   "attachments": {},
   "cell_type": "markdown",
   "id": "264804fa",
   "metadata": {},
   "source": [
    "![](images/gh-pages%20config.png)"
   ]
  },
  {
   "cell_type": "markdown",
   "id": "1321d70d",
   "metadata": {},
   "source": [
    "#### Workflows"
   ]
  },
  {
   "cell_type": "markdown",
   "id": "8a8cbabb",
   "metadata": {},
   "source": [
    "On push, nbdev runs two workflows on your project.  Here's a description from the nbdev [End-To-End Walkthrough](https://nbdev.fast.ai/tutorials/tutorial.html):"
   ]
  },
  {
   "cell_type": "markdown",
   "id": "e571548f",
   "metadata": {},
   "source": [
    "What do these workflows do?\n",
    "\n",
    "- **CI** - The CI (continuous integration) workflow streamlines your developer workflow, particularly with multiple collaborators. Every time you push to GitHub, it ensures that:\n",
    "    - Your notebooks and libraries are in sync\n",
    "    - Your notebooks are cleaned of unwanted metadata (which pollute pull requests and git histories and lead to merge conflicts)\n",
    "    - Your notebook tests all pass\n",
    "- **Deploy to GitHub Pages** - Builds your docs with Quarto and deploys it to GitHub Pages.\n"
   ]
  },
  {
   "cell_type": "markdown",
   "id": "48702cae",
   "metadata": {},
   "source": [
    "If these run correctly you will see a green check (✅) next to each run.  If not you will see a red cross (❌).  In this case, click on the cross to see what failed."
   ]
  },
  {
   "cell_type": "markdown",
   "id": "20da59f1",
   "metadata": {},
   "source": [
    "In some cases you will need to give Workflows \"Read and writer permissions.  To do this click on \"Settings\", go to the \"Actions\" tab, click \"General\", scroll to \"Workflow permissions\", then select \"Read and write permissions\", finally click \"Save\".  Here's a screenshot for refrence:"
   ]
  },
  {
   "attachments": {},
   "cell_type": "markdown",
   "id": "3a8737f4",
   "metadata": {},
   "source": [
    "![](images/workflows%20config.png)"
   ]
  },
  {
   "cell_type": "markdown",
   "id": "fe198a8e",
   "metadata": {},
   "source": [
    "The generated docs can be viewed at `https://{user}.github.io{repo}`"
   ]
  },
  {
   "cell_type": "markdown",
   "id": "f629be06",
   "metadata": {},
   "source": [
    "### Developing Docs"
   ]
  },
  {
   "cell_type": "markdown",
   "id": "3a35baf9",
   "metadata": {},
   "source": [
    "When working with Jupyter notebooks it is necessary to install nbdev's hooks to avoid merge conflicts.\n",
    "\n",
    "```bash\n",
    "pdm run nbdev_install_hooks\n",
    "```"
   ]
  },
  {
   "cell_type": "markdown",
   "id": "e56d5cf7",
   "metadata": {},
   "source": [
    "From here, documentation can be developed in jupyter notebooks and will be generated on push."
   ]
  },
  {
   "cell_type": "markdown",
   "id": "ea9e0624",
   "metadata": {},
   "source": [
    "### index.ipynb"
   ]
  },
  {
   "cell_type": "markdown",
   "id": "ed87d16b",
   "metadata": {},
   "source": [
    "nbdev will automatically create an `index.ipynb` file.  This will become the documentation home page and `README.md`.  "
   ]
  },
  {
   "cell_type": "markdown",
   "id": "1da8e0a9",
   "metadata": {},
   "source": [
    "### Pushing to GitHub"
   ]
  },
  {
   "attachments": {},
   "cell_type": "markdown",
   "id": "0aeb6034",
   "metadata": {},
   "source": [
    "Before commiting changes run `pdm run nbdev_prepare`.  This will perform the following actions:\n",
    "\n",
    "- `pdm run nbdev_export`: Builds the .py modules from Jupyter notebooks\n",
    "- `pdm run nbdev_test:` Tests your notebooks\n",
    "- `pdm run nbdev_clean:` Cleans your notebooks to get rid of extreanous output for Github\n",
    "- `pdm run nbdev_readme:` Updates README.md from your index notebook.\n"
   ]
  },
  {
   "attachments": {},
   "cell_type": "markdown",
   "id": "417eb5de",
   "metadata": {},
   "source": [
    "Finally push to GitHub"
   ]
  }
 ],
 "metadata": {
  "kernelspec": {
   "display_name": "frameworks-getting-started-3.9",
   "language": "python",
   "name": "frameworks-getting-started-3.9"
  }
 },
 "nbformat": 4,
 "nbformat_minor": 5
}
