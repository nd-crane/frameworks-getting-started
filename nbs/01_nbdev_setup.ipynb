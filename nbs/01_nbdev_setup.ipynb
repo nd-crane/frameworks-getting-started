{
 "cells": [
  {
   "cell_type": "markdown",
   "id": "d0bb61ad-13f6-4dfe-aeee-bbdedbd824ee",
   "metadata": {},
   "source": [
    "# Setting Up nbdev"
   ]
  },
  {
   "cell_type": "markdown",
   "id": "0d7673c2-2da6-478c-aa32-c3b14af9b2f4",
   "metadata": {},
   "source": [
    "nbdev streamlines software development, testing, and documentation all from Jupyter Notebooks using Quarto and Github actions.  We'll use nbdev to increase AI modeling transparency.  To initialize nbdev follow the steps below."
   ]
  },
  {
   "cell_type": "markdown",
   "id": "55832746-bb04-4410-9b07-40c8d31a27fa",
   "metadata": {},
   "source": [
    "### Installation"
   ]
  },
  {
   "cell_type": "markdown",
   "id": "11046d78-ae23-4188-8fae-e7f4aac8d301",
   "metadata": {},
   "source": [
    "With PDM properly configured we'll install all packages with it.  Let's start with nbdev.\n",
    "```bash\n",
    "pdm add nbdev\n",
    "```"
   ]
  },
  {
   "attachments": {},
   "cell_type": "markdown",
   "id": "926e134d-3067-4f20-8155-2106df1ce979",
   "metadata": {},
   "source": [
    "### Initialization"
   ]
  },
  {
   "attachments": {},
   "cell_type": "markdown",
   "id": "870cf45a",
   "metadata": {},
   "source": [
    "Before initializing nbdev, we first need to install [quarto](https://quarto.org/). Quarto enables technical publishing which will convert Jupyter Notebooks to beautiful documentation.  There are two options for quarto installation."
   ]
  },
  {
   "attachments": {},
   "cell_type": "markdown",
   "id": "27895b0f",
   "metadata": {},
   "source": [
    "1. If **sudo privledges** are available you may run:\n",
    "    ```bash\n",
    "    nbdev_install_quarto\n",
    "    ```\n",
    "2. Otherwise, you will have to perform a few tricks:\n",
    "\n",
    "    First download the tarball from github.\n",
    "\n",
    "    ```bash\n",
    "    wget https://github.com/quarto-dev/quarto-cli/releases/download/v1.2.335/quarto-1.2.335-linux-amd64.tar.gz\n",
    "    ```\n",
    "\n",
    "    Next extract and build the binaries.\n",
    "\n",
    "    ```bash\n",
    "    mkdir quarto\n",
    "    tar -C ./quarto -xvzf quarto-1.2.335-linux-amd64.tar.gz\n",
    "    ```\n",
    "\n",
    "    Finally, provide a link to the binaries in the environment, so the interpreter recognizes this installation.\n",
    "    ```bash\n",
    "    ln -sr ./quarto/quarto-1.2.335/bin/quarto ./.venv/bin/quarto\n",
    "    ```\n",
    "    (If the environment was configured differently on the previous page, the destination will differ)\n",
    "\n",
    "    To ensure properly installation run:\n",
    "    ```bash\n",
    "    pdm run which quarto\n",
    "    ```\n",
    "\n",
    "    From here you may delete the tarball:\n",
    "    ```bash\n",
    "    rm quarto-1.2.335-linux-amd64.tar.gz\n",
    "    ```\n",
    "  "
   ]
  },
  {
   "attachments": {},
   "cell_type": "markdown",
   "id": "4f219052",
   "metadata": {},
   "source": []
  },
  {
   "cell_type": "markdown",
   "id": "afdcf009",
   "metadata": {},
   "source": []
  }
 ],
 "metadata": {
  "kernelspec": {
   "display_name": "Python 3",
   "language": "python",
   "name": "python3"
  },
  "language_info": {
   "codemirror_mode": {
    "name": "ipython",
    "version": 3
   },
   "file_extension": ".py",
   "mimetype": "text/x-python",
   "name": "python",
   "nbconvert_exporter": "python",
   "pygments_lexer": "ipython3",
   "version": "3.9.15"
  }
 },
 "nbformat": 4,
 "nbformat_minor": 5
}
