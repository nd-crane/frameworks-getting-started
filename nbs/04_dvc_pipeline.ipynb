{
 "cells": [
  {
   "attachments": {},
   "cell_type": "markdown",
   "metadata": {},
   "source": [
    "# Creating a DVC Pipeline"
   ]
  },
  {
   "attachments": {},
   "cell_type": "markdown",
   "metadata": {},
   "source": [
    "Now let's use the power of DVC.  Once we have some of our pipeline built in the `nbs/` directory, we can use DVC to automate it using a DVC pipeline."
   ]
  },
  {
   "attachments": {},
   "cell_type": "markdown",
   "metadata": {},
   "source": [
    "## Introducing the Pipleine\n",
    "\n",
    "A DVC pipeline can be initilized from the command line using this [documentation](\"https://dvc.org/doc/start/data-management/data-pipelines\"), or by following the steps below."
   ]
  },
  {
   "attachments": {},
   "cell_type": "markdown",
   "metadata": {},
   "source": [
    "First create a `dvc.yaml` file in the project root directory.  This will serve as the map for our pipeline from which DVC will automate from.  Here's an example three stage pipeline taken from the [iterative/example-get-started-experiments]('https://github.com/iterative/example-get-started-experiments') repo.  We'll explain what everything means below.\n",
    "\n",
    "```yaml\n",
    "stages:\n",
    "  data_split:\n",
    "    cmd: python src/data_split.py\n",
    "    deps:\n",
    "    - data/pool_data\n",
    "    - src/data_split.py\n",
    "    params:\n",
    "    - base\n",
    "    - data_split\n",
    "    outs:\n",
    "    - data/test_data\n",
    "    - data/train_data\n",
    "  train:\n",
    "    cmd: python src/train.py\n",
    "    deps:\n",
    "    - data/train_data\n",
    "    - src/train.py\n",
    "    params:\n",
    "    - base\n",
    "    - train\n",
    "    outs:\n",
    "    - models/model.pkl\n",
    "  evaluate:\n",
    "    cmd: python src/evaluate.py\n",
    "    deps:\n",
    "    - data/test_data\n",
    "    - models/model.pkl\n",
    "    - src/evaluate.py\n",
    "    params:\n",
    "    - base\n",
    "    - evaluate\n",
    "```"
   ]
  },
  {
   "attachments": {},
   "cell_type": "markdown",
   "metadata": {},
   "source": [
    "As you can see pipelines are defined by stages.  Each stage requires a command or `cmd:` to run the stage, the necessary dependencies or `deps:` for that stage, and the outputs or `outs:` from that stage.  In addition we can add `params:` as seen above, and `graphs:` which will be explained later."
   ]
  },
  {
   "cell_type": "markdown",
   "metadata": {},
   "source": [
    "While the pipeline above works perfectly fine, the frameworks team has made a few changes to fit our toolset and best practices.  Let's go over the process for adding a stage now."
   ]
  },
  {
   "attachments": {},
   "cell_type": "markdown",
   "metadata": {},
   "source": [
    "## How it Works\n",
    "\n",
    "DVC pipelines are run using:\n",
    "\n",
    "```bash\n",
    "pdm run dvc repro\n",
    "```\n",
    "\n",
    "This 'reproduces' the entire pipeline top to bottom, tracking all inputs and outputs in a `dvc.lock` file.  This file looks very similar to the example above, except it also contains the hash and file size for each input and output.\n",
    "\n",
    "Heres' an example of one input entry:\n",
    "\n",
    "```lock\n",
    "path: data/pool_data\n",
    "md5: 14d187e749ee5614e105741c719fa185.dir\n",
    "size: 18999874\n",
    "```\n",
    "\n",
    "This allows DVC to track exactly what goes in and what comes out with git.  Furthermore, on execution of `dvc repro` DVC checks this `.lock` file.  If the current hashes of all inputs and outputs are the same as all listed in this file, it will not rerun the pipeline.  However, if any are missing or different, it will."
   ]
  },
  {
   "attachments": {},
   "cell_type": "markdown",
   "metadata": {},
   "source": [
    "## The Framework's Approach"
   ]
  },
  {
   "attachments": {},
   "cell_type": "markdown",
   "metadata": {},
   "source": [
    "\n",
    "In an empty `dvc.yml` file, add the `stages:` line at the top and the name of your first stage, like the following:\n",
    "\n",
    "```yaml\n",
    "stages:\n",
    "  data_collection:\n",
    "```\n",
    "\n",
    "Now let's add the command line:"
   ]
  },
  {
   "attachments": {},
   "cell_type": "markdown",
   "metadata": {},
   "source": [
    "### Running Notebooks with Papermill"
   ]
  },
  {
   "attachments": {},
   "cell_type": "markdown",
   "metadata": {},
   "source": [
    "If you are using `.py` files for each stage, adding `python stage.py` as the command works perfectly fine.  However, if you are using `.ipynb` files for each stage (accoding to the previous pages) we need to add a few tricks.\n",
    "\n",
    "We'll use [papermill](https://papermill.readthedocs.io/en/latest/usage-workflow.html), another [iterative.ai](https://iterative.ai/) tool to run (and parameterize) notebooks.  Papermill can be installed with the following:\n",
    "\n",
    "```bash\n",
    "pdm add papermill\n",
    "```"
   ]
  },
  {
   "attachments": {},
   "cell_type": "markdown",
   "metadata": {},
   "source": [
    "Papermill works by taking an input notebook, running all cells from top to bottom, then writing all output to a new notebook.  Usage is `papermill <input_nb> <output_nb>`.  Since DVC will be running this from our project root, lets add a new directory `scripts/` to hold all output notebooks.  This can be added to the `.gitignore`.\n",
    "\n",
    "Here's an example using papermill for our `data_collection` stage:\n",
    "\n",
    "```yaml\n",
    "stages:\n",
    "  data_collection:\n",
    "    cmd: >\n",
    "        papermill\n",
    "        nbs/00_Collecting_Data.ipynb\n",
    "        scripts/00_Collecting_Data.ipynb\n",
    "        --cwd nbs/\n",
    "```\n",
    "    \n",
    "The `--cwd nbs/` part executes the notebook from the `nbs/` directory.  This ensures any imports/exports with relative paths are routed properly."
   ]
  },
  {
   "attachments": {},
   "cell_type": "markdown",
   "metadata": {},
   "source": [
    "### Adding Dependencies"
   ]
  },
  {
   "attachments": {},
   "cell_type": "markdown",
   "metadata": {},
   "source": [
    "Now let's add dependencies for this stage.  Obviously we need to add the notebook itself to the deps, but we'll also add `pdm.lock`, `.pdm.toml`, and `pyproject.toml`.  We do this to every stage to track any project dependencies, their versions, and subdependencies required for that notebook.  Finally we also add whatever our data source is. \n",
    "\n",
    "Here's an example:\n",
    "\n",
    "```yaml\n",
    "stages:\n",
    "  data_collection:\n",
    "    cmd: >\n",
    "        papermill \n",
    "        nbs/01_data_collection.ipynb \n",
    "        scripts/01_data_collection.ipynb \n",
    "        --cwd nbs/\n",
    "    deps:\n",
    "      - nbs/00_Collecting_Data.ipynb\n",
    "      - pdm.lock\n",
    "      - pyproject.toml\n",
    "      - data/raw-data\n",
    "      - .pdm.toml\n",
    "```"
   ]
  },
  {
   "attachments": {},
   "cell_type": "markdown",
   "metadata": {},
   "source": [
    "### Adding Outputs\n",
    "\n",
    "Finally we add all outputs from this stage.  We'll add the output script from the `papermill` command, and whatever data we output.  Here's an example continuing the above:\n",
    "\n",
    "```yaml\n",
    "stages:\n",
    "  data_collection:\n",
    "    cmd: >\n",
    "        papermill \n",
    "        nbs/01_data_collection.ipynb \n",
    "        scripts/01_data_collection.ipynb \n",
    "        --cwd nbs/\n",
    "    deps:\n",
    "      - nbs/00_Collecting_Data.ipynb\n",
    "      - pdm.lock\n",
    "      - pyproject.toml\n",
    "      - data/raw-data\n",
    "      - .pdm.toml\n",
    "    outs:\n",
    "      - scripts/00_Collecting_Data.ipynb\n",
    "      - data/Concatenated_Orig_data.csv\n",
    "```\n",
    "\n",
    "This completes one basic stage.  We'll repeat this process for every stage to fully automate a pipeline"
   ]
  },
  {
   "cell_type": "markdown",
   "metadata": {},
   "source": []
  }
 ],
 "metadata": {
  "language_info": {
   "name": "python"
  }
 },
 "nbformat": 4,
 "nbformat_minor": 2
}
