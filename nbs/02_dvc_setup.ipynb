{
 "cells": [
  {
   "attachments": {},
   "cell_type": "markdown",
   "metadata": {},
   "source": [
    "# Setting Up DVC"
   ]
  },
  {
   "attachments": {},
   "cell_type": "markdown",
   "metadata": {},
   "source": [
    "[Data Version Control](dvc.org) serves two purposes for our framework.\n",
    "\n",
    "1. It allows us to track large data files that cannot be uploaded to GitHub using the `dvc.lock` file.\n",
    "2. It gives structure to our project by properly defining a pipeline with inputs, outputs, parameters, metrics and visualizations."
   ]
  },
  {
   "attachments": {},
   "cell_type": "markdown",
   "metadata": {},
   "source": [
    "### Installation"
   ]
  },
  {
   "attachments": {},
   "cell_type": "markdown",
   "metadata": {},
   "source": [
    "DVC should be installed like any other package by running:\n",
    "\n",
    "```bash\n",
    "pdm add dvc\n",
    "```"
   ]
  },
  {
   "attachments": {},
   "cell_type": "markdown",
   "metadata": {},
   "source": [
    "### Initialization"
   ]
  },
  {
   "attachments": {},
   "cell_type": "markdown",
   "metadata": {},
   "source": [
    "From here, DVC can be initialized by running:\n",
    "\n",
    "```bash\n",
    "pdm run dvc init\n",
    "```"
   ]
  },
  {
   "attachments": {},
   "cell_type": "markdown",
   "metadata": {},
   "source": [
    "This creates a `.dvc` directory with a few internal files.  Add these changes to Git with a commit."
   ]
  }
 ],
 "metadata": {
  "language_info": {
   "name": "python"
  },
  "orig_nbformat": 4
 },
 "nbformat": 4,
 "nbformat_minor": 2
}
