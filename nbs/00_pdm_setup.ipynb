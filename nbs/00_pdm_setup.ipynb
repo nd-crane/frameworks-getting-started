{
 "cells": [
  {
   "cell_type": "markdown",
   "metadata": {},
   "source": [
    "# Setting Up PDM"
   ]
  },
  {
   "cell_type": "markdown",
   "metadata": {},
   "source": [
    "PDM allows us to manage installed packages across versions to ensure when we run our scripts we run them with the correct package and the correct version.  To initalize pdm follow the steps below."
   ]
  },
  {
   "cell_type": "markdown",
   "metadata": {},
   "source": [
    "### Installation\n",
    "PDM should be installed as described in the [Installation instructions](https://pdm.fming.dev/latest/#recommended-installation-method)."
   ]
  },
  {
   "cell_type": "markdown",
   "metadata": {},
   "source": [
    "### Initialization \n",
    "Once PDM is installed and configured, the project should be initialized by running the following command. This will ask a series of questions, where the defaults are usually safe, and produce a file called `pyproject.toml`.\n",
    "```bash\n",
    "pdm init\n",
    "```\n",
    "\n",
    "\n",
    "\n",
    "\n",
    "\n",
    "\n"
   ]
  },
  {
   "cell_type": "markdown",
   "metadata": {},
   "source": [
    "**IMPORTANT:** When selecting the python interpreter, select the installation location rather than a virtual environment path.  On the CAML cluster this will look something like `/opt/anaconda3/bin/python`"
   ]
  },
  {
   "cell_type": "markdown",
   "metadata": {},
   "source": [
    "**IMPORTANT:** Ensure PDM sets up a virtual environment for packages to be installed in.  This will be the `.venv/` directory."
   ]
  },
  {
   "cell_type": "markdown",
   "metadata": {},
   "source": [
    "If properly initialized the following files will appear in the project root directory:\n",
    "1. `pyproject.toml` - contains project metadata and dependencies\n",
    "2. `pdm.lock` - contains the resolved result for dependencies and subdependencies\n",
    "3. `.pdm.toml` - contains the python interpreter path and package installation location\n",
    "4. `.venv/` - contains installed packaged libraries and interpreter"
   ]
  },
  {
   "cell_type": "markdown",
   "metadata": {},
   "source": [
    "### `.gitignore`"
   ]
  },
  {
   "cell_type": "markdown",
   "metadata": {},
   "source": [
    "To prevent conflicts when using git versioning, add the `.pdm.toml` file and `.venv/` directory to your project's `.gitignore`"
   ]
  },
  {
   "cell_type": "markdown",
   "metadata": {},
   "source": [
    "### Adding Packages"
   ]
  },
  {
   "cell_type": "markdown",
   "metadata": {},
   "source": [
    "Packages can be added in the same fasion as `pip` and `conda` by running:\n",
    "```bash\n",
    "pdm add <package_name>\n",
    "```"
   ]
  },
  {
   "cell_type": "markdown",
   "metadata": {},
   "source": [
    "### Pulling From Github"
   ]
  },
  {
   "cell_type": "markdown",
   "metadata": {},
   "source": [
    "When pulling from Github it is crucial to ensure local package versions are up to date.  To do this run:\n",
    "```bash\n",
    "pdm sync\n",
    "```\n",
    "This will update `pdm.lock` from `pyproject.toml` and install packages as needed."
   ]
  }
 ],
 "metadata": {
  "kernelspec": {
   "display_name": "python3",
   "language": "python",
   "name": "python3"
  }
 },
 "nbformat": 4,
 "nbformat_minor": 4
}
