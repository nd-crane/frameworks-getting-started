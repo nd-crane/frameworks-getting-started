{
 "cells": [
  {
   "attachments": {},
   "cell_type": "markdown",
   "metadata": {},
   "source": [
    "# Suggested Filestructure"
   ]
  },
  {
   "attachments": {},
   "cell_type": "markdown",
   "metadata": {},
   "source": [
    "While the file structure will not make much difference on the correctness of your project, this suggested file structure will encourage code reproducability and explainability.  Much of it will be auto generated at this point from the three previous steps, but we'll add a few things as well as some explanations."
   ]
  },
  {
   "attachments": {},
   "cell_type": "markdown",
   "metadata": {},
   "source": [
    "## Repository Structure\n",
    "> Below is the full suggested repository structure"
   ]
  },
  {
   "attachments": {},
   "cell_type": "markdown",
   "metadata": {},
   "source": [
    "```tree\n",
    "project-name/\n",
    "├── .gitignore\n",
    "├── .pdmtoml\n",
    "├── LICENSE\n",
    "├── MANIFEST.in\n",
    "├── pdm.lock\n",
    "├── pyproject.toml\n",
    "├── README.md\n",
    "├── ssettings.ini\n",
    "├── setup.py\n",
    "├── styles.css\n",
    "├── .github/\n",
    "| ├── workflows/\n",
    "| | ├── deploy.yaml\n",
    "| └ └── test.yaml\n",
    "├── .venv/\n",
    "| └── ...\n",
    "├── data/\n",
    "| ├── raw/\n",
    "| | └── raw_data.csv\n",
    "| ├── iterim/\n",
    "| | └── iterim_data.csv\n",
    "| ├── cleaned/\n",
    "| └ └── cleaned_data.csv\n",
    "├── nbs/\n",
    "| ├── index.ipynb\n",
    "| ├── 01_data_collection.ipynb\n",
    "| ├── 02_data_preparation.ipynb\n",
    "| ├── 03_feature_extraction.ipynb\n",
    "| ├── 04_output_testing.ipynb\n",
    "| ├── 05_training.ipynb\n",
    "| └── 06_inference.ipynb\n",
    "├── model/\n",
    "| └── ...\n",
    "└── eval/\n",
    "| ├── plots/\n",
    "└ └── metrics.json\n",
    "\n",
    "```"
   ]
  },
  {
   "cell_type": "markdown",
   "metadata": {},
   "source": []
  }
 ],
 "metadata": {},
 "nbformat": 4,
 "nbformat_minor": 2
}
